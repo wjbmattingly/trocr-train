{
 "cells": [
  {
   "cell_type": "code",
   "execution_count": 1,
   "metadata": {},
   "outputs": [
    {
     "name": "stderr",
     "output_type": "stream",
     "text": [
      "/opt/anaconda3/envs/yolo/lib/python3.10/site-packages/tqdm/auto.py:21: TqdmWarning: IProgress not found. Please update jupyter and ipywidgets. See https://ipywidgets.readthedocs.io/en/stable/user_install.html\n",
      "  from .autonotebook import tqdm as notebook_tqdm\n"
     ]
    }
   ],
   "source": [
    "from transformers import TrOCRProcessor, VisionEncoderDecoderModel\n",
    "from PIL import Image\n",
    "import requests\n"
   ]
  },
  {
   "cell_type": "code",
   "execution_count": 6,
   "metadata": {},
   "outputs": [
    {
     "name": "stderr",
     "output_type": "stream",
     "text": [
      "Config of the encoder: <class 'transformers.models.vit.modeling_vit.ViTModel'> is overwritten by shared encoder config: ViTConfig {\n",
      "  \"attention_probs_dropout_prob\": 0.0,\n",
      "  \"encoder_stride\": 16,\n",
      "  \"hidden_act\": \"gelu\",\n",
      "  \"hidden_dropout_prob\": 0.0,\n",
      "  \"hidden_size\": 768,\n",
      "  \"image_size\": 384,\n",
      "  \"initializer_range\": 0.02,\n",
      "  \"intermediate_size\": 3072,\n",
      "  \"layer_norm_eps\": 1e-12,\n",
      "  \"model_type\": \"vit\",\n",
      "  \"num_attention_heads\": 12,\n",
      "  \"num_channels\": 3,\n",
      "  \"num_hidden_layers\": 12,\n",
      "  \"patch_size\": 16,\n",
      "  \"pooler_act\": \"tanh\",\n",
      "  \"pooler_output_size\": 768,\n",
      "  \"qkv_bias\": false,\n",
      "  \"torch_dtype\": \"float32\",\n",
      "  \"transformers_version\": \"4.51.3\"\n",
      "}\n",
      "\n",
      "Config of the decoder: <class 'transformers.models.trocr.modeling_trocr.TrOCRForCausalLM'> is overwritten by shared decoder config: TrOCRConfig {\n",
      "  \"activation_dropout\": 0.0,\n",
      "  \"activation_function\": \"gelu\",\n",
      "  \"add_cross_attention\": true,\n",
      "  \"attention_dropout\": 0.0,\n",
      "  \"bos_token_id\": 0,\n",
      "  \"classifier_dropout\": 0.0,\n",
      "  \"cross_attention_hidden_size\": 768,\n",
      "  \"d_model\": 1024,\n",
      "  \"decoder_attention_heads\": 16,\n",
      "  \"decoder_ffn_dim\": 4096,\n",
      "  \"decoder_layerdrop\": 0.0,\n",
      "  \"decoder_layers\": 12,\n",
      "  \"decoder_start_token_id\": 2,\n",
      "  \"dropout\": 0.1,\n",
      "  \"eos_token_id\": 2,\n",
      "  \"init_std\": 0.02,\n",
      "  \"is_decoder\": true,\n",
      "  \"layernorm_embedding\": true,\n",
      "  \"max_position_embeddings\": 512,\n",
      "  \"model_type\": \"trocr\",\n",
      "  \"pad_token_id\": 1,\n",
      "  \"scale_embedding\": false,\n",
      "  \"torch_dtype\": \"float32\",\n",
      "  \"transformers_version\": \"4.51.3\",\n",
      "  \"use_cache\": false,\n",
      "  \"use_learned_position_embeddings\": true,\n",
      "  \"vocab_size\": 50265\n",
      "}\n",
      "\n"
     ]
    }
   ],
   "source": [
    "processor = TrOCRProcessor.from_pretrained('microsoft/trocr-base-handwritten')\n",
    "model = VisionEncoderDecoderModel.from_pretrained('wjbmattingly/trocr-yiddish')"
   ]
  },
  {
   "cell_type": "code",
   "execution_count": 13,
   "metadata": {},
   "outputs": [
    {
     "name": "stdout",
     "output_type": "stream",
     "text": [
      "</s>�ה�����ו�</s>\n",
      "הערשלס טאַטע און זלמן דער שענקער פֿון\n"
     ]
    }
   ],
   "source": [
    "# load image from the IAM database\n",
    "url = 'https://datasets-server.huggingface.co/cached-assets/johnlockejrr/yiddish_synth/--/cf3f57fb05623c211a5beed297e591810bc6891f/--/default/train/48/image/image.jpg?Expires=1745259392&Signature=yPYjjePauuEvs1EuklCo~PQ5bGh4pw0OEB4ywYb49rJC3BaUG-7wvy~EBSo2N784BBDd5R5O4U6OIDkAEI2LBDyEgI0tAHihUJ5wjx~~0ya~sonqWJ7uMoPl36i5f8mjMxoSdp8NGrWW-18TdaoETCzFlTBl40TP-pBb3rOvOv2tAuEELs7qBhL5IEndDB0Ye6gwWriWSEV8mkwaeBPb2uoxKk-L4nLAgAy7o6KiZI8EFcrpIk29-K~cwClTP65F-4WCKyiEghA2EoQIX0Q-dm-UMHh-83B6BB3yWzijYx6W7N8S8X4Kl8rgCBJAtcvZceYnK1grqHdAnQjQjulS0A__&Key-Pair-Id=K3EI6M078Z3AC3'\n",
    "image = Image.open(requests.get(url, stream=True).raw).convert(\"RGB\")\n",
    "\n",
    "pixel_values = processor(images=image, return_tensors=\"pt\").pixel_values\n",
    "\n",
    "generated_ids = model.generate(pixel_values)\n",
    "generated_text = processor.batch_decode(generated_ids, skip_special_tokens=False)[0]\n",
    "print(generated_text)\n",
    "print(\"הערשלס טאַטע און זלמן דער שענקער פֿון\")"
   ]
  },
  {
   "cell_type": "code",
   "execution_count": 12,
   "metadata": {},
   "outputs": [],
   "source": [
    "with open(\"test.txt\", \"w\", encoding=\"utf-8\") as f:\n",
    "    f.write(generated_text)"
   ]
  },
  {
   "cell_type": "code",
   "execution_count": 15,
   "metadata": {},
   "outputs": [
    {
     "name": "stdout",
     "output_type": "stream",
     "text": [
      "Character codes in generated text:\n",
      "<: 60 (hex: 0x3c\n",
      "/: 47 (hex: 0x2f\n",
      "s: 115 (hex: 0x73\n",
      ">: 62 (hex: 0x3e\n",
      "�: 65533 (hex: 0xfffd\n",
      "ה: 1492 (hex: 0x5d4\n",
      "�: 65533 (hex: 0xfffd\n",
      "�: 65533 (hex: 0xfffd\n",
      "�: 65533 (hex: 0xfffd\n",
      "�: 65533 (hex: 0xfffd\n",
      "�: 65533 (hex: 0xfffd\n",
      "ו: 1493 (hex: 0x5d5\n",
      "�: 65533 (hex: 0xfffd\n",
      "<: 60 (hex: 0x3c\n",
      "/: 47 (hex: 0x2f\n",
      "s: 115 (hex: 0x73\n",
      ">: 62 (hex: 0x3e\n",
      "\n",
      "Attempting with skip_special_tokens=True:\n",
      "�ה�����ו�\n",
      "\n",
      "Using tokenizer from the same model:\n",
      "�ה�����ו�\n"
     ]
    }
   ],
   "source": [
    "# Add this to your notebook\n",
    "# Checking actual characters in the generated text\n",
    "print(\"Character codes in generated text:\")\n",
    "for char in generated_text:\n",
    "    print(f\"{char}: {ord(char)} (hex: {hex(ord(char))}\")\n",
    "\n",
    "# Try with skip_special_tokens=True\n",
    "print(\"\\nAttempting with skip_special_tokens=True:\")\n",
    "clean_text = processor.batch_decode(generated_ids, skip_special_tokens=True)[0]\n",
    "print(clean_text)\n",
    "\n",
    "# Create a custom processor that loads the same tokenizer from the finetuned model\n",
    "from transformers import TrOCRProcessor\n",
    "\n",
    "# Try creating a processor from the same finetuned model path\n",
    "custom_processor = TrOCRProcessor.from_pretrained('microsoft/trocr-base-handwritten')\n",
    "custom_text = custom_processor.batch_decode(generated_ids, skip_special_tokens=True)[0]\n",
    "print(\"\\nUsing tokenizer from the same model:\")\n",
    "print(custom_text)"
   ]
  },
  {
   "cell_type": "code",
   "execution_count": 17,
   "metadata": {},
   "outputs": [
    {
     "name": "stderr",
     "output_type": "stream",
     "text": [
      "Config of the encoder: <class 'transformers.models.vit.modeling_vit.ViTModel'> is overwritten by shared encoder config: ViTConfig {\n",
      "  \"attention_probs_dropout_prob\": 0.0,\n",
      "  \"encoder_stride\": 16,\n",
      "  \"hidden_act\": \"gelu\",\n",
      "  \"hidden_dropout_prob\": 0.0,\n",
      "  \"hidden_size\": 768,\n",
      "  \"image_size\": 384,\n",
      "  \"initializer_range\": 0.02,\n",
      "  \"intermediate_size\": 3072,\n",
      "  \"layer_norm_eps\": 1e-12,\n",
      "  \"model_type\": \"vit\",\n",
      "  \"num_attention_heads\": 12,\n",
      "  \"num_channels\": 3,\n",
      "  \"num_hidden_layers\": 12,\n",
      "  \"patch_size\": 16,\n",
      "  \"pooler_act\": \"tanh\",\n",
      "  \"pooler_output_size\": 768,\n",
      "  \"qkv_bias\": false,\n",
      "  \"torch_dtype\": \"float32\",\n",
      "  \"transformers_version\": \"4.51.3\"\n",
      "}\n",
      "\n",
      "Config of the decoder: <class 'transformers.models.trocr.modeling_trocr.TrOCRForCausalLM'> is overwritten by shared decoder config: TrOCRConfig {\n",
      "  \"activation_dropout\": 0.0,\n",
      "  \"activation_function\": \"gelu\",\n",
      "  \"add_cross_attention\": true,\n",
      "  \"attention_dropout\": 0.0,\n",
      "  \"bos_token_id\": 0,\n",
      "  \"classifier_dropout\": 0.0,\n",
      "  \"cross_attention_hidden_size\": 768,\n",
      "  \"d_model\": 1024,\n",
      "  \"decoder_attention_heads\": 16,\n",
      "  \"decoder_ffn_dim\": 4096,\n",
      "  \"decoder_layerdrop\": 0.0,\n",
      "  \"decoder_layers\": 12,\n",
      "  \"decoder_start_token_id\": 2,\n",
      "  \"dropout\": 0.1,\n",
      "  \"eos_token_id\": 2,\n",
      "  \"init_std\": 0.02,\n",
      "  \"is_decoder\": true,\n",
      "  \"layernorm_embedding\": true,\n",
      "  \"max_position_embeddings\": 512,\n",
      "  \"model_type\": \"trocr\",\n",
      "  \"pad_token_id\": 1,\n",
      "  \"scale_embedding\": false,\n",
      "  \"torch_dtype\": \"float32\",\n",
      "  \"transformers_version\": \"4.51.3\",\n",
      "  \"use_cache\": false,\n",
      "  \"use_learned_position_embeddings\": true,\n",
      "  \"vocab_size\": 50265\n",
      "}\n",
      "\n"
     ]
    },
    {
     "data": {
      "text/plain": [
       "TrOCRScaledWordEmbedding(23437, 1024, padding_idx=1)"
      ]
     },
     "execution_count": 17,
     "metadata": {},
     "output_type": "execute_result"
    }
   ],
   "source": [
    "# Load your custom processor and model\n",
    "processor = TrOCRProcessor.from_pretrained('yiddish_processor')\n",
    "model = VisionEncoderDecoderModel.from_pretrained('wjbmattingly/trocr-yiddish')\n",
    "\n",
    "# Update model to use your tokenizer\n",
    "model.config.decoder_start_token_id = processor.tokenizer.cls_token_id\n",
    "model.config.pad_token_id = processor.tokenizer.pad_token_id\n",
    "model.config.eos_token_id = processor.tokenizer.sep_token_id\n",
    "\n",
    "# Resize model's token embeddings to match your tokenizer\n",
    "model.decoder.resize_token_embeddings(len(processor.tokenizer))"
   ]
  },
  {
   "cell_type": "code",
   "execution_count": 18,
   "metadata": {},
   "outputs": [
    {
     "name": "stdout",
     "output_type": "stream",
     "text": [
      "קאָלעהודמעמע זעגטשפּרונגען קאָלעהודשפּרונגען\n"
     ]
    }
   ],
   "source": [
    "# Now process the image\n",
    "url = 'https://datasets-server.huggingface.co/cached-assets/johnlockejrr/yiddish_synth/--/cf3f57fb05623c211a5beed297e591810bc6891f/--/default/train/48/image/image.jpg?Expires=1745259392&Signature=yPYjjePauuEvs1EuklCo~PQ5bGh4pw0OEB4ywYb49rJC3BaUG-7wvy~EBSo2N784BBDd5R5O4U6OIDkAEI2LBDyEgI0tAHihUJ5wjx~~0ya~sonqWJ7uMoPl36i5f8mjMxoSdp8NGrWW-18TdaoETCzFlTBl40TP-pBb3rOvOv2tAuEELs7qBhL5IEndDB0Ye6gwWriWSEV8mkwaeBPb2uoxKk-L4nLAgAy7o6KiZI8EFcrpIk29-K~cwClTP65F-4WCKyiEghA2EoQIX0Q-dm-UMHh-83B6BB3yWzijYx6W7N8S8X4Kl8rgCBJAtcvZceYnK1grqHdAnQjQjulS0A__&Key-Pair-Id=K3EI6M078Z3AC3'\n",
    "image = Image.open(requests.get(url, stream=True).raw).convert(\"RGB\")\n",
    "\n",
    "# Process with your custom processor\n",
    "pixel_values = processor(images=image, return_tensors=\"pt\").pixel_values\n",
    "\n",
    "# Generate text\n",
    "generated_ids = model.generate(pixel_values)\n",
    "generated_text = processor.batch_decode(generated_ids, skip_special_tokens=True)[0]\n",
    "print(generated_text)"
   ]
  },
  {
   "cell_type": "code",
   "execution_count": null,
   "metadata": {},
   "outputs": [],
   "source": []
  }
 ],
 "metadata": {
  "kernelspec": {
   "display_name": "yolo",
   "language": "python",
   "name": "python3"
  },
  "language_info": {
   "codemirror_mode": {
    "name": "ipython",
    "version": 3
   },
   "file_extension": ".py",
   "mimetype": "text/x-python",
   "name": "python",
   "nbconvert_exporter": "python",
   "pygments_lexer": "ipython3",
   "version": "3.10.16"
  }
 },
 "nbformat": 4,
 "nbformat_minor": 2
}
